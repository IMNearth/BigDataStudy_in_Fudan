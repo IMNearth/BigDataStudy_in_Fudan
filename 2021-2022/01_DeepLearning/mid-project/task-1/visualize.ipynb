{
 "cells": [
  {
   "cell_type": "code",
   "execution_count": 1,
   "metadata": {},
   "outputs": [
    {
     "name": "stderr",
     "output_type": "stream",
     "text": [
      "/remote-home/my/tools/anaconda3/envs/deep/lib/python3.7/site-packages/tqdm/auto.py:22: TqdmWarning: IProgress not found. Please update jupyter and ipywidgets. See https://ipywidgets.readthedocs.io/en/stable/user_install.html\n",
      "  from .autonotebook import tqdm as notebook_tqdm\n"
     ]
    }
   ],
   "source": [
    "import torch\n",
    "import torchvision\n",
    "import torchvision.transforms as transforms\n",
    "\n",
    "import cv2\n",
    "import random\n",
    "import numpy as np\n",
    "from time import time"
   ]
  },
  {
   "cell_type": "code",
   "execution_count": 15,
   "metadata": {},
   "outputs": [
    {
     "name": "stdout",
     "output_type": "stream",
     "text": [
      "Setting seed done...\n"
     ]
    }
   ],
   "source": [
    "def set_random_seed(seed):\n",
    "    if seed < 0:\n",
    "        return\n",
    "    random.seed(seed)\n",
    "    np.random.seed(seed)\n",
    "    torch.manual_seed(seed)\n",
    "    if torch.cuda.is_available():\n",
    "        torch.cuda.manual_seed(seed)\n",
    "        torch.cuda.manual_seed_all(seed)\n",
    "        torch.backends.cudnn.deterministic = True\n",
    "        torch.backends.cudnn.benchmark = False\n",
    "    print(\"Setting seed done...\")\n",
    "\n",
    "set_random_seed(2022)"
   ]
  },
  {
   "cell_type": "code",
   "execution_count": 3,
   "metadata": {},
   "outputs": [],
   "source": [
    "def rand_bbox(size, lam):\n",
    "    W = size[2]\n",
    "    H = size[3]\n",
    "    cut_rat = np.sqrt(1. - lam)\n",
    "    cut_w = int(W * cut_rat)\n",
    "    cut_h = int(H * cut_rat)\n",
    "\n",
    "    # uniform\n",
    "    cx = np.random.randint(W)\n",
    "    cy = np.random.randint(H)\n",
    "\n",
    "    bbx1 = np.clip(cx - cut_w // 2, 0, W)\n",
    "    bby1 = np.clip(cy - cut_h // 2, 0, H)\n",
    "    bbx2 = np.clip(cx + cut_w // 2, 0, W)\n",
    "    bby2 = np.clip(cy + cut_h // 2, 0, H)\n",
    "\n",
    "    return bbx1, bby1, bbx2, bby2"
   ]
  },
  {
   "cell_type": "code",
   "execution_count": 10,
   "metadata": {},
   "outputs": [
    {
     "name": "stdout",
     "output_type": "stream",
     "text": [
      "Files already downloaded and verified\n"
     ]
    }
   ],
   "source": [
    "trainset = torchvision.datasets.CIFAR100(\n",
    "    root='../datasets/cifar', \n",
    "    train=True, \n",
    "    download=True, \n",
    ")"
   ]
  },
  {
   "cell_type": "code",
   "execution_count": 11,
   "metadata": {},
   "outputs": [
    {
     "name": "stdout",
     "output_type": "stream",
     "text": [
      "torch.Size([16, 3, 32, 32])\n"
     ]
    }
   ],
   "source": [
    "images = []\n",
    "labels = []\n",
    "for i, (image, label) in enumerate(trainset):\n",
    "    images.append(\n",
    "        # HWC -> CHW\n",
    "        torch.tensor(np.array(image).transpose((2,0,1)))\n",
    "    )\n",
    "    labels.append(label)\n",
    "    if i == 15: break\n",
    "\n",
    "org_images = torch.stack(images).float()\n",
    "print(org_images.shape)"
   ]
  },
  {
   "cell_type": "code",
   "execution_count": 16,
   "metadata": {},
   "outputs": [
    {
     "name": "stdout",
     "output_type": "stream",
     "text": [
      "0 ./images/cutmix_19.png\n",
      "7 ./images/cutmix_28.png\n",
      "9 ./images/cutmix_31.png\n",
      "0 ./images/cutout_19.png\n",
      "7 ./images/cutout_28.png\n",
      "9 ./images/cutout_31.png\n",
      "0 ./images/mixup_19.png\n",
      "7 ./images/mixup_28.png\n",
      "9 ./images/mixup_31.png\n",
      "0 ./images/original_19.png\n",
      "7 ./images/original_28.png\n",
      "9 ./images/original_31.png\n"
     ]
    }
   ],
   "source": [
    "r = np.random.rand(1)\n",
    "beta = 1.0\n",
    "selected_idx = [0, 7, 9]\n",
    "\n",
    "rand_index = torch.randperm(org_images.size()[0])\n",
    "lam = np.random.beta(beta, beta)\n",
    "\n",
    "for visual in [\"cutmix\", \"cutout\", \"mixup\", \"original\"]:\n",
    "    images = org_images.clone()\n",
    "    if visual == \"cutmix\":\n",
    "        # generate mixed sample\n",
    "        bbx1, bby1, bbx2, bby2 = rand_bbox(images.size(), lam)\n",
    "        images[:, :, bbx1:bbx2, bby1:bby2] = images[rand_index, :, bbx1:bbx2, bby1:bby2]\n",
    "        # adjust lambda to exactly match pixel ratio\n",
    "        lam = 1 - ((bbx2 - bbx1) * (bby2 - bby1) / (images.size()[-1] * images.size()[-2]))\n",
    "    elif visual == \"cutout\":\n",
    "        # generate cut sample\n",
    "        bbx1, bby1, bbx2, bby2 = rand_bbox(images.size(), lam)\n",
    "        images[:, :, bbx1:bbx2, bby1:bby2] = 0\n",
    "    elif visual == \"mixup\":\n",
    "        # generate mixed sample\n",
    "        lam = 0.5\n",
    "        images = lam * images + (1 - lam) * images[rand_index, :]\n",
    "    else:\n",
    "        images = images\n",
    "        pass\n",
    "    \n",
    "    for img_idx in selected_idx:\n",
    "        image = images[img_idx].numpy()\n",
    "        # CHW -> HWC\n",
    "        image = image.transpose((1,2,0))\n",
    "        label = labels[img_idx]\n",
    "        \n",
    "        cv2.imwrite(f\"./images/{visual}_{label}.png\", image)\n",
    "        print(img_idx, f\"./images/{visual}_{label}.png\")"
   ]
  },
  {
   "cell_type": "code",
   "execution_count": null,
   "metadata": {},
   "outputs": [],
   "source": []
  }
 ],
 "metadata": {
  "interpreter": {
   "hash": "00f8b444e0fb8a7283a0eff69a45ffa4c86a3ffa216addc983e15469fc4f5093"
  },
  "kernelspec": {
   "display_name": "Python 3.7.13 ('deep')",
   "language": "python",
   "name": "python3"
  },
  "language_info": {
   "codemirror_mode": {
    "name": "ipython",
    "version": 3
   },
   "file_extension": ".py",
   "mimetype": "text/x-python",
   "name": "python",
   "nbconvert_exporter": "python",
   "pygments_lexer": "ipython3",
   "version": "3.7.13"
  },
  "orig_nbformat": 4
 },
 "nbformat": 4,
 "nbformat_minor": 2
}
